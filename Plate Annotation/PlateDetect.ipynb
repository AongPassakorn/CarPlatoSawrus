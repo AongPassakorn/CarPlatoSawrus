{
 "cells": [
  {
   "cell_type": "code",
   "execution_count": 14,
   "metadata": {},
   "outputs": [
    {
     "name": "stdout",
     "output_type": "stream",
     "text": [
      "Requirement already satisfied: opencv-python in /Users/pstpnj/Desktop/CarPlatoSawrus/.venv/lib/python3.9/site-packages (4.10.0.84)\n",
      "Requirement already satisfied: numpy>=1.21.0 in /Users/pstpnj/Desktop/CarPlatoSawrus/.venv/lib/python3.9/site-packages (from opencv-python) (1.26.4)\n",
      "Note: you may need to restart the kernel to use updated packages.\n",
      "Requirement already satisfied: ultralytics in /Users/pstpnj/Desktop/CarPlatoSawrus/.venv/lib/python3.9/site-packages (8.2.48)\n",
      "Requirement already satisfied: numpy<2.0.0,>=1.23.0 in /Users/pstpnj/Desktop/CarPlatoSawrus/.venv/lib/python3.9/site-packages (from ultralytics) (1.26.4)\n",
      "Requirement already satisfied: matplotlib>=3.3.0 in /Users/pstpnj/Desktop/CarPlatoSawrus/.venv/lib/python3.9/site-packages (from ultralytics) (3.9.0)\n",
      "Requirement already satisfied: opencv-python>=4.6.0 in /Users/pstpnj/Desktop/CarPlatoSawrus/.venv/lib/python3.9/site-packages (from ultralytics) (4.10.0.84)\n",
      "Requirement already satisfied: pillow>=7.1.2 in /Users/pstpnj/Desktop/CarPlatoSawrus/.venv/lib/python3.9/site-packages (from ultralytics) (10.4.0)\n",
      "Requirement already satisfied: pyyaml>=5.3.1 in /Users/pstpnj/Desktop/CarPlatoSawrus/.venv/lib/python3.9/site-packages (from ultralytics) (6.0.1)\n",
      "Requirement already satisfied: requests>=2.23.0 in /Users/pstpnj/Desktop/CarPlatoSawrus/.venv/lib/python3.9/site-packages (from ultralytics) (2.32.3)\n",
      "Requirement already satisfied: scipy>=1.4.1 in /Users/pstpnj/Desktop/CarPlatoSawrus/.venv/lib/python3.9/site-packages (from ultralytics) (1.13.1)\n",
      "Requirement already satisfied: torch>=1.8.0 in /Users/pstpnj/Desktop/CarPlatoSawrus/.venv/lib/python3.9/site-packages (from ultralytics) (2.3.1)\n",
      "Requirement already satisfied: torchvision>=0.9.0 in /Users/pstpnj/Desktop/CarPlatoSawrus/.venv/lib/python3.9/site-packages (from ultralytics) (0.18.1)\n",
      "Requirement already satisfied: tqdm>=4.64.0 in /Users/pstpnj/Desktop/CarPlatoSawrus/.venv/lib/python3.9/site-packages (from ultralytics) (4.66.4)\n",
      "Requirement already satisfied: psutil in /Users/pstpnj/Desktop/CarPlatoSawrus/.venv/lib/python3.9/site-packages (from ultralytics) (6.0.0)\n",
      "Requirement already satisfied: py-cpuinfo in /Users/pstpnj/Desktop/CarPlatoSawrus/.venv/lib/python3.9/site-packages (from ultralytics) (9.0.0)\n",
      "Requirement already satisfied: pandas>=1.1.4 in /Users/pstpnj/Desktop/CarPlatoSawrus/.venv/lib/python3.9/site-packages (from ultralytics) (2.2.2)\n",
      "Requirement already satisfied: seaborn>=0.11.0 in /Users/pstpnj/Desktop/CarPlatoSawrus/.venv/lib/python3.9/site-packages (from ultralytics) (0.13.2)\n",
      "Requirement already satisfied: ultralytics-thop>=2.0.0 in /Users/pstpnj/Desktop/CarPlatoSawrus/.venv/lib/python3.9/site-packages (from ultralytics) (2.0.0)\n",
      "Requirement already satisfied: contourpy>=1.0.1 in /Users/pstpnj/Desktop/CarPlatoSawrus/.venv/lib/python3.9/site-packages (from matplotlib>=3.3.0->ultralytics) (1.2.1)\n",
      "Requirement already satisfied: cycler>=0.10 in /Users/pstpnj/Desktop/CarPlatoSawrus/.venv/lib/python3.9/site-packages (from matplotlib>=3.3.0->ultralytics) (0.12.1)\n",
      "Requirement already satisfied: fonttools>=4.22.0 in /Users/pstpnj/Desktop/CarPlatoSawrus/.venv/lib/python3.9/site-packages (from matplotlib>=3.3.0->ultralytics) (4.53.0)\n",
      "Requirement already satisfied: kiwisolver>=1.3.1 in /Users/pstpnj/Desktop/CarPlatoSawrus/.venv/lib/python3.9/site-packages (from matplotlib>=3.3.0->ultralytics) (1.4.5)\n",
      "Requirement already satisfied: packaging>=20.0 in /Users/pstpnj/Desktop/CarPlatoSawrus/.venv/lib/python3.9/site-packages (from matplotlib>=3.3.0->ultralytics) (24.1)\n",
      "Requirement already satisfied: pyparsing>=2.3.1 in /Users/pstpnj/Desktop/CarPlatoSawrus/.venv/lib/python3.9/site-packages (from matplotlib>=3.3.0->ultralytics) (3.1.2)\n",
      "Requirement already satisfied: python-dateutil>=2.7 in /Users/pstpnj/Desktop/CarPlatoSawrus/.venv/lib/python3.9/site-packages (from matplotlib>=3.3.0->ultralytics) (2.9.0.post0)\n",
      "Requirement already satisfied: importlib-resources>=3.2.0 in /Users/pstpnj/Desktop/CarPlatoSawrus/.venv/lib/python3.9/site-packages (from matplotlib>=3.3.0->ultralytics) (6.4.0)\n",
      "Requirement already satisfied: pytz>=2020.1 in /Users/pstpnj/Desktop/CarPlatoSawrus/.venv/lib/python3.9/site-packages (from pandas>=1.1.4->ultralytics) (2024.1)\n",
      "Requirement already satisfied: tzdata>=2022.7 in /Users/pstpnj/Desktop/CarPlatoSawrus/.venv/lib/python3.9/site-packages (from pandas>=1.1.4->ultralytics) (2024.1)\n",
      "Requirement already satisfied: charset-normalizer<4,>=2 in /Users/pstpnj/Desktop/CarPlatoSawrus/.venv/lib/python3.9/site-packages (from requests>=2.23.0->ultralytics) (3.3.2)\n",
      "Requirement already satisfied: idna<4,>=2.5 in /Users/pstpnj/Desktop/CarPlatoSawrus/.venv/lib/python3.9/site-packages (from requests>=2.23.0->ultralytics) (3.7)\n",
      "Requirement already satisfied: urllib3<3,>=1.21.1 in /Users/pstpnj/Desktop/CarPlatoSawrus/.venv/lib/python3.9/site-packages (from requests>=2.23.0->ultralytics) (2.2.2)\n",
      "Requirement already satisfied: certifi>=2017.4.17 in /Users/pstpnj/Desktop/CarPlatoSawrus/.venv/lib/python3.9/site-packages (from requests>=2.23.0->ultralytics) (2024.6.2)\n",
      "Requirement already satisfied: filelock in /Users/pstpnj/Desktop/CarPlatoSawrus/.venv/lib/python3.9/site-packages (from torch>=1.8.0->ultralytics) (3.15.4)\n",
      "Requirement already satisfied: typing-extensions>=4.8.0 in /Users/pstpnj/Desktop/CarPlatoSawrus/.venv/lib/python3.9/site-packages (from torch>=1.8.0->ultralytics) (4.12.2)\n",
      "Requirement already satisfied: sympy in /Users/pstpnj/Desktop/CarPlatoSawrus/.venv/lib/python3.9/site-packages (from torch>=1.8.0->ultralytics) (1.12.1)\n",
      "Requirement already satisfied: networkx in /Users/pstpnj/Desktop/CarPlatoSawrus/.venv/lib/python3.9/site-packages (from torch>=1.8.0->ultralytics) (3.2.1)\n",
      "Requirement already satisfied: jinja2 in /Users/pstpnj/Desktop/CarPlatoSawrus/.venv/lib/python3.9/site-packages (from torch>=1.8.0->ultralytics) (3.1.4)\n",
      "Requirement already satisfied: fsspec in /Users/pstpnj/Desktop/CarPlatoSawrus/.venv/lib/python3.9/site-packages (from torch>=1.8.0->ultralytics) (2024.6.1)\n",
      "Requirement already satisfied: zipp>=3.1.0 in /Users/pstpnj/Desktop/CarPlatoSawrus/.venv/lib/python3.9/site-packages (from importlib-resources>=3.2.0->matplotlib>=3.3.0->ultralytics) (3.19.2)\n",
      "Requirement already satisfied: six>=1.5 in /Users/pstpnj/Desktop/CarPlatoSawrus/.venv/lib/python3.9/site-packages (from python-dateutil>=2.7->matplotlib>=3.3.0->ultralytics) (1.16.0)\n",
      "Requirement already satisfied: MarkupSafe>=2.0 in /Users/pstpnj/Desktop/CarPlatoSawrus/.venv/lib/python3.9/site-packages (from jinja2->torch>=1.8.0->ultralytics) (2.1.5)\n",
      "Requirement already satisfied: mpmath<1.4.0,>=1.1.0 in /Users/pstpnj/Desktop/CarPlatoSawrus/.venv/lib/python3.9/site-packages (from sympy->torch>=1.8.0->ultralytics) (1.3.0)\n",
      "Note: you may need to restart the kernel to use updated packages.\n",
      "Requirement already satisfied: pillow in /Users/pstpnj/Desktop/CarPlatoSawrus/.venv/lib/python3.9/site-packages (10.4.0)\n",
      "Note: you may need to restart the kernel to use updated packages.\n"
     ]
    }
   ],
   "source": [
    "%pip install opencv-python\n",
    "%pip install ultralytics\n",
    "%pip install pillow"
   ]
  },
  {
   "cell_type": "code",
   "execution_count": 3,
   "metadata": {},
   "outputs": [
    {
     "name": "stdout",
     "output_type": "stream",
     "text": [
      "Package             Version\n",
      "------------------- -----------\n",
      "appnope             0.1.4\n",
      "asttokens           2.4.1\n",
      "certifi             2024.6.2\n",
      "charset-normalizer  3.3.2\n",
      "comm                0.2.2\n",
      "contourpy           1.2.1\n",
      "cycler              0.12.1\n",
      "debugpy             1.8.2\n",
      "decorator           5.1.1\n",
      "exceptiongroup      1.2.1\n",
      "executing           2.0.1\n",
      "filelock            3.15.4\n",
      "fonttools           4.53.0\n",
      "fsspec              2024.6.1\n",
      "idna                3.7\n",
      "importlib_metadata  8.0.0\n",
      "importlib_resources 6.4.0\n",
      "ipykernel           6.29.5\n",
      "ipython             8.18.1\n",
      "jedi                0.19.1\n",
      "Jinja2              3.1.4\n",
      "jupyter_client      8.6.2\n",
      "jupyter_core        5.7.2\n",
      "kiwisolver          1.4.5\n",
      "MarkupSafe          2.1.5\n",
      "matplotlib          3.9.0\n",
      "matplotlib-inline   0.1.7\n",
      "mpmath              1.3.0\n",
      "nest-asyncio        1.6.0\n",
      "networkx            3.2.1\n",
      "numpy               1.26.4\n",
      "opencv-python       4.10.0.84\n",
      "packaging           24.1\n",
      "pandas              2.2.2\n",
      "parso               0.8.4\n",
      "pexpect             4.9.0\n",
      "pillow              10.4.0\n",
      "pip                 24.1.1\n",
      "platformdirs        4.2.2\n",
      "prompt_toolkit      3.0.47\n",
      "psutil              6.0.0\n",
      "ptyprocess          0.7.0\n",
      "pure-eval           0.2.2\n",
      "py-cpuinfo          9.0.0\n",
      "Pygments            2.18.0\n",
      "pyparsing           3.1.2\n",
      "python-dateutil     2.9.0.post0\n",
      "pytz                2024.1\n",
      "PyYAML              6.0.1\n",
      "pyzmq               26.0.3\n",
      "requests            2.32.3\n",
      "scipy               1.13.1\n",
      "seaborn             0.13.2\n",
      "setuptools          69.2.0\n",
      "six                 1.16.0\n",
      "stack-data          0.6.3\n",
      "sympy               1.12.1\n",
      "torch               2.3.1\n",
      "torchvision         0.18.1\n",
      "tornado             6.4.1\n",
      "tqdm                4.66.4\n",
      "traitlets           5.14.3\n",
      "typing_extensions   4.12.2\n",
      "tzdata              2024.1\n",
      "ultralytics         8.2.48\n",
      "ultralytics-thop    2.0.0\n",
      "urllib3             2.2.2\n",
      "wcwidth             0.2.13\n",
      "zipp                3.19.2\n",
      "Note: you may need to restart the kernel to use updated packages.\n"
     ]
    }
   ],
   "source": [
    "%pip list"
   ]
  },
  {
   "cell_type": "code",
   "execution_count": 1,
   "metadata": {},
   "outputs": [],
   "source": [
    "import cv2\n",
    "from ultralytics import YOLO\n",
    "from PIL import Image"
   ]
  },
  {
   "cell_type": "code",
   "execution_count": 7,
   "metadata": {},
   "outputs": [],
   "source": [
    "# Load pre trained model\n",
    "license_plate_detector = YOLO(\"./license_plate_detector.pt\")"
   ]
  },
  {
   "cell_type": "code",
   "execution_count": null,
   "metadata": {
    "vscode": {
     "languageId": "coffeescript"
    }
   },
   "outputs": [],
   "source": [
    "image_path = '../Dataset/Only_plate/13_jpg.rf.7ef20835063813f36294a37efae33be0.jpg'\n",
    "\n",
    "# Load image\n",
    "# Display results\n",
    "# img = Image.fromarray(results, 'RGB')\n",
    "# img.show()\n",
    "\n"
   ]
  },
  {
   "cell_type": "code",
   "execution_count": null,
   "metadata": {},
   "outputs": [],
   "source": [
    "# load video\n",
    "cap = cv2.VideoCapture('./untrack/sample.mp4')\n",
    "results = {}\n",
    "# read frames\n",
    "frame_nmr = -1\n",
    "ret = True\n",
    "while ret:\n",
    "    frame_nmr += 1\n",
    "    ret, frame = cap.read()\n",
    "    if ret:\n",
    "        results[frame_nmr] = {}\n",
    "\n",
    "        # detect license plates\n",
    "        license_plates = license_plate_detector(frame)[0]\n",
    "        for license_plate in license_plates.boxes.data.tolist():\n",
    "            x1, y1, x2, y2, score, class_id = license_plate\n",
    "\n",
    "            # crop license plate\n",
    "            license_plate_crop = frame[int(y1):int(y2), int(x1): int(x2), :]\n",
    "            license_plate_crop_gray = cv2.cvtColor(license_plate_crop, cv2.COLOR_BGR2GRAY)\n",
    "            _, license_plate_crop_thresh = cv2.threshold(license_plate_crop_gray, 64, 255, cv2.THRESH_BINARY_INV)"
   ]
  }
 ],
 "metadata": {
  "kernelspec": {
   "display_name": ".venv",
   "language": "python",
   "name": "python3"
  },
  "language_info": {
   "codemirror_mode": {
    "name": "ipython",
    "version": 3
   },
   "file_extension": ".py",
   "mimetype": "text/x-python",
   "name": "python",
   "nbconvert_exporter": "python",
   "pygments_lexer": "ipython3",
   "version": "3.9.19"
  }
 },
 "nbformat": 4,
 "nbformat_minor": 2
}
